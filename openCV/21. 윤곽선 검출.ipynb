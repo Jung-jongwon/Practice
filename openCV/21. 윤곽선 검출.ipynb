{
 "cells": [
  {
   "cell_type": "code",
   "execution_count": 1,
   "metadata": {},
   "outputs": [
    {
     "name": "stdout",
     "output_type": "stream",
     "text": [
      "0 [ 1 -1 -1 -1]\n",
      "1 [ 2  0 -1 -1]\n",
      "2 [ 3  1 -1 -1]\n",
      "3 [ 4  2 -1 -1]\n",
      "4 [ 5  3 -1 -1]\n",
      "5 [ 6  4 -1 -1]\n",
      "6 [ 7  5 -1 -1]\n",
      "7 [ 8  6 -1 -1]\n",
      "8 [ 9  7 -1 -1]\n",
      "9 [10  8 -1 -1]\n",
      "10 [11  9 -1 -1]\n",
      "11 [12 10 -1 -1]\n",
      "12 [13 11 -1 -1]\n",
      "13 [14 12 -1 -1]\n",
      "14 [15 13 -1 -1]\n",
      "15 [16 14 -1 -1]\n",
      "16 [17 15 -1 -1]\n",
      "17 [18 16 -1 -1]\n",
      "18 [19 17 -1 -1]\n",
      "19 [20 18 -1 -1]\n",
      "20 [21 19 -1 -1]\n",
      "21 [22 20 -1 -1]\n"
     ]
    },
    {
     "ename": "KeyboardInterrupt",
     "evalue": "",
     "output_type": "error",
     "traceback": [
      "\u001b[1;31m---------------------------------------------------------------------------\u001b[0m",
      "\u001b[1;31mKeyboardInterrupt\u001b[0m                         Traceback (most recent call last)",
      "\u001b[1;32mc:\\Users\\user\\Desktop\\JJW\\python\\openCV\\21. 윤곽선 검출.ipynb 셀 1\u001b[0m in \u001b[0;36m<cell line: 11>\u001b[1;34m()\u001b[0m\n\u001b[0;32m     <a href='vscode-notebook-cell:/c%3A/Users/user/Desktop/JJW/python/openCV/21.%20%EC%9C%A4%EA%B3%BD%EC%84%A0%20%EA%B2%80%EC%B6%9C.ipynb#W0sZmlsZQ%3D%3D?line=13'>14</a>\u001b[0m     \u001b[39mprint\u001b[39m(i, hierarchy[\u001b[39m0\u001b[39m][i])\n\u001b[0;32m     <a href='vscode-notebook-cell:/c%3A/Users/user/Desktop/JJW/python/openCV/21.%20%EC%9C%A4%EA%B3%BD%EC%84%A0%20%EA%B2%80%EC%B6%9C.ipynb#W0sZmlsZQ%3D%3D?line=14'>15</a>\u001b[0m     cv2\u001b[39m.\u001b[39mimshow(\u001b[39m\"\u001b[39m\u001b[39msrc\u001b[39m\u001b[39m\"\u001b[39m, src)\n\u001b[1;32m---> <a href='vscode-notebook-cell:/c%3A/Users/user/Desktop/JJW/python/openCV/21.%20%EC%9C%A4%EA%B3%BD%EC%84%A0%20%EA%B2%80%EC%B6%9C.ipynb#W0sZmlsZQ%3D%3D?line=15'>16</a>\u001b[0m     cv2\u001b[39m.\u001b[39;49mwaitKey(\u001b[39m0\u001b[39;49m)\n\u001b[0;32m     <a href='vscode-notebook-cell:/c%3A/Users/user/Desktop/JJW/python/openCV/21.%20%EC%9C%A4%EA%B3%BD%EC%84%A0%20%EA%B2%80%EC%B6%9C.ipynb#W0sZmlsZQ%3D%3D?line=17'>18</a>\u001b[0m cv2\u001b[39m.\u001b[39mdestroyAllWindows()\n",
      "\u001b[1;31mKeyboardInterrupt\u001b[0m: "
     ]
    }
   ],
   "source": [
    "import cv2\n",
    "\n",
    "src = cv2.imread(\"Image/jjw_01.jpg\", cv2.IMREAD_COLOR)\n",
    "\n",
    "gray = cv2.cvtColor(src, cv2.COLOR_RGB2GRAY)\n",
    "ret, binary = cv2.threshold(gray, 127, 255, cv2.THRESH_BINARY)\n",
    "binary = cv2.bitwise_not(binary)\n",
    "\n",
    "contours, hierarchy = cv2.findContours(binary, cv2.RETR_CCOMP, cv2.CHAIN_APPROX_NONE)\n",
    "\n",
    "for i in range(len(contours)):\n",
    "    cv2.drawContours(src, [contours[i]], 0, (0,0,255),2)\n",
    "    cv2.putText(src, str(i), tuple(contours[i][0][0]), cv2.FONT_HERSHEY_COMPLEX, 0.8, (0, 255, 0), 1)\n",
    "    print(i, hierarchy[0][i])\n",
    "    cv2.imshow(\"src\", src)\n",
    "    cv2.waitKey(0)\n",
    "    \n",
    "cv2.destroyAllWindows()\n",
    "\n"
   ]
  },
  {
   "cell_type": "code",
   "execution_count": 2,
   "metadata": {},
   "outputs": [
    {
     "data": {
      "text/plain": [
       "-1"
      ]
     },
     "execution_count": 2,
     "metadata": {},
     "output_type": "execute_result"
    }
   ],
   "source": [
    "import sys\n",
    "import numpy as np\n",
    "import cv2\n",
    "\n",
    "obj = cv2.imread('Image/blocz_01.jpg', cv2.IMREAD_GRAYSCALE)\n",
    "src = cv2.imread('Image/jjw_01.jpg', cv2.IMREAD_GRAYSCALE)\n",
    "\n",
    "if src is None or obj is None:\n",
    "    print('Image load failed!')\n",
    "    sys.exit()\n",
    "    \n",
    "_, obj_bin = cv2.threshold(obj, 128, 255, cv2.THRESH_BINARY_INV)\n",
    "\n",
    "obj_contours, _ = cv2.findContours(obj_bin, cv2.RETR_EXTERNAL, cv2.CHAIN_APPROX_NONE)\n",
    "obj_pts = obj_contours[0]\n",
    "\n",
    "_, src_bin = cv2.threshold(src, 128, 255, cv2.THRESH_BINARY_INV)\n",
    "contours, _ = cv2.findContours(src_bin, cv2.RETR_EXTERNAL, cv2.CHAIN_APPROX_NONE)\n",
    "\n",
    "dst = cv2.cvtColor(src, cv2.COLOR_GRAY2BGR)\n",
    "\n",
    "for pts in contours:\n",
    "    if cv2.contourArea(pts) < 1000:\n",
    "        continue\n",
    "    \n",
    "    rc = cv2.boundingRect(pts)\n",
    "    cv2.rectangle(dst, rc, (255, 0, 0), 1)\n",
    "    \n",
    "    dist = cv2.matchShapes(obj_pts, pts, cv2.CONTOURS_MATCH_I3, 0)\n",
    "    \n",
    "    cv2.putText(dst, str(round(dist, 4)), (rc[0], rc[1] -3),\n",
    "                cv2.FONT_HERSHEY_SIMPLEX, 0.6, (255, 0, 0), 1, cv2.LINE_AA)\n",
    "    \n",
    "    if dist < 0.1:\n",
    "        cv2.rectangle(dst, rc, (0, 0, 255), 2)\n",
    "        \n",
    "cv2.imshow('obj', obj)\n",
    "cv2.imshow('dst', dst)\n",
    "cv2.waitKey(0)\n",
    "\n",
    "\n"
   ]
  }
 ],
 "metadata": {
  "kernelspec": {
   "display_name": "Python 3.9.12 ('base')",
   "language": "python",
   "name": "python3"
  },
  "language_info": {
   "codemirror_mode": {
    "name": "ipython",
    "version": 3
   },
   "file_extension": ".py",
   "mimetype": "text/x-python",
   "name": "python",
   "nbconvert_exporter": "python",
   "pygments_lexer": "ipython3",
   "version": "3.9.12"
  },
  "orig_nbformat": 4,
  "vscode": {
   "interpreter": {
    "hash": "a077222d77dfe082b8f1dd562ad70e458ac2ab76993a0b248ab0476e32e9e8dd"
   }
  }
 },
 "nbformat": 4,
 "nbformat_minor": 2
}
