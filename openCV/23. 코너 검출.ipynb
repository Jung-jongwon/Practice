{
 "cells": [
  {
   "cell_type": "code",
   "execution_count": 6,
   "metadata": {},
   "outputs": [
    {
     "ename": "error",
     "evalue": "OpenCV(4.6.0) :-1: error: (-5:Bad argument) in function 'circle'\n> Overload resolution failed:\n>  - Can't parse 'center'. Sequence item with index 0 has a wrong type\n>  - Can't parse 'center'. Sequence item with index 0 has a wrong type\n",
     "output_type": "error",
     "traceback": [
      "\u001b[1;31m---------------------------------------------------------------------------\u001b[0m",
      "\u001b[1;31merror\u001b[0m                                     Traceback (most recent call last)",
      "\u001b[1;32mc:\\Users\\user\\Desktop\\JJW\\python\\openCV\\23. 코너 검출.ipynb 셀 1\u001b[0m in \u001b[0;36m<cell line: 9>\u001b[1;34m()\u001b[0m\n\u001b[0;32m      <a href='vscode-notebook-cell:/c%3A/Users/user/Desktop/JJW/python/openCV/23.%20%EC%BD%94%EB%84%88%20%EA%B2%80%EC%B6%9C.ipynb#W0sZmlsZQ%3D%3D?line=6'>7</a>\u001b[0m corners \u001b[39m=\u001b[39m cv2\u001b[39m.\u001b[39mgoodFeaturesToTrack(gray, \u001b[39m100\u001b[39m, \u001b[39m0.01\u001b[39m, \u001b[39m5\u001b[39m, blockSize\u001b[39m=\u001b[39m\u001b[39m3\u001b[39m, useHarrisDetector\u001b[39m=\u001b[39m\u001b[39mTrue\u001b[39;00m, k\u001b[39m=\u001b[39m\u001b[39m0.03\u001b[39m)\n\u001b[0;32m      <a href='vscode-notebook-cell:/c%3A/Users/user/Desktop/JJW/python/openCV/23.%20%EC%BD%94%EB%84%88%20%EA%B2%80%EC%B6%9C.ipynb#W0sZmlsZQ%3D%3D?line=8'>9</a>\u001b[0m \u001b[39mfor\u001b[39;00m i \u001b[39min\u001b[39;00m corners:\n\u001b[1;32m---> <a href='vscode-notebook-cell:/c%3A/Users/user/Desktop/JJW/python/openCV/23.%20%EC%BD%94%EB%84%88%20%EA%B2%80%EC%B6%9C.ipynb#W0sZmlsZQ%3D%3D?line=9'>10</a>\u001b[0m     cv2\u001b[39m.\u001b[39;49mcircle(dst, \u001b[39mtuple\u001b[39;49m(i[\u001b[39m0\u001b[39;49m]), \u001b[39m3\u001b[39;49m, (\u001b[39m0\u001b[39;49m, \u001b[39m0\u001b[39;49m, \u001b[39m255\u001b[39;49m), \u001b[39m2\u001b[39;49m)\n\u001b[0;32m     <a href='vscode-notebook-cell:/c%3A/Users/user/Desktop/JJW/python/openCV/23.%20%EC%BD%94%EB%84%88%20%EA%B2%80%EC%B6%9C.ipynb#W0sZmlsZQ%3D%3D?line=11'>12</a>\u001b[0m cv2\u001b[39m.\u001b[39mimshow(\u001b[39m\"\u001b[39m\u001b[39mdst\u001b[39m\u001b[39m\"\u001b[39m, dst)\n\u001b[0;32m     <a href='vscode-notebook-cell:/c%3A/Users/user/Desktop/JJW/python/openCV/23.%20%EC%BD%94%EB%84%88%20%EA%B2%80%EC%B6%9C.ipynb#W0sZmlsZQ%3D%3D?line=12'>13</a>\u001b[0m cv2\u001b[39m.\u001b[39mwaitKey(\u001b[39m0\u001b[39m)\n",
      "\u001b[1;31merror\u001b[0m: OpenCV(4.6.0) :-1: error: (-5:Bad argument) in function 'circle'\n> Overload resolution failed:\n>  - Can't parse 'center'. Sequence item with index 0 has a wrong type\n>  - Can't parse 'center'. Sequence item with index 0 has a wrong type\n"
     ]
    }
   ],
   "source": [
    "import cv2\n",
    "\n",
    "src = cv2.imread(\"Image/tomato.jpg\")\n",
    "dst = src.copy()\n",
    "\n",
    "gray = cv2.cvtColor(src, cv2.COLOR_RGB2GRAY)\n",
    "corners = cv2.goodFeaturesToTrack(gray, 100, 0.01, 5, blockSize=3, useHarrisDetector=True, k=0.03)\n",
    "\n",
    "for i in corners:\n",
    "    cv2.circle(dst, tuple(i[0]), 3, (0, 0, 255), 2)\n",
    "\n",
    "cv2.imshow(\"dst\", dst)\n",
    "cv2.waitKey(0)\n",
    "cv2.destroyAllWindows()"
   ]
  }
 ],
 "metadata": {
  "kernelspec": {
   "display_name": "Python 3.9.12 ('base')",
   "language": "python",
   "name": "python3"
  },
  "language_info": {
   "codemirror_mode": {
    "name": "ipython",
    "version": 3
   },
   "file_extension": ".py",
   "mimetype": "text/x-python",
   "name": "python",
   "nbconvert_exporter": "python",
   "pygments_lexer": "ipython3",
   "version": "3.9.12"
  },
  "orig_nbformat": 4,
  "vscode": {
   "interpreter": {
    "hash": "a077222d77dfe082b8f1dd562ad70e458ac2ab76993a0b248ab0476e32e9e8dd"
   }
  }
 },
 "nbformat": 4,
 "nbformat_minor": 2
}
