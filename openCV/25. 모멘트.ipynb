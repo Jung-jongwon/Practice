{
 "cells": [
  {
   "cell_type": "code",
   "execution_count": 1,
   "metadata": {},
   "outputs": [
    {
     "ename": "ZeroDivisionError",
     "evalue": "float division by zero",
     "output_type": "error",
     "traceback": [
      "\u001b[1;31m---------------------------------------------------------------------------\u001b[0m",
      "\u001b[1;31mZeroDivisionError\u001b[0m                         Traceback (most recent call last)",
      "\u001b[1;32mc:\\Users\\user\\Desktop\\JJW\\python\\openCV\\25. 모멘트.ipynb 셀 1\u001b[0m in \u001b[0;36m<cell line: 11>\u001b[1;34m()\u001b[0m\n\u001b[0;32m     <a href='vscode-notebook-cell:/c%3A/Users/user/Desktop/JJW/python/openCV/25.%20%EB%AA%A8%EB%A9%98%ED%8A%B8.ipynb#W0sZmlsZQ%3D%3D?line=10'>11</a>\u001b[0m \u001b[39mfor\u001b[39;00m i \u001b[39min\u001b[39;00m contours:\n\u001b[0;32m     <a href='vscode-notebook-cell:/c%3A/Users/user/Desktop/JJW/python/openCV/25.%20%EB%AA%A8%EB%A9%98%ED%8A%B8.ipynb#W0sZmlsZQ%3D%3D?line=11'>12</a>\u001b[0m     M \u001b[39m=\u001b[39m cv2\u001b[39m.\u001b[39mmoments(i)\n\u001b[1;32m---> <a href='vscode-notebook-cell:/c%3A/Users/user/Desktop/JJW/python/openCV/25.%20%EB%AA%A8%EB%A9%98%ED%8A%B8.ipynb#W0sZmlsZQ%3D%3D?line=12'>13</a>\u001b[0m     cX \u001b[39m=\u001b[39m \u001b[39mint\u001b[39m(M[\u001b[39m'\u001b[39;49m\u001b[39mm10\u001b[39;49m\u001b[39m'\u001b[39;49m] \u001b[39m/\u001b[39;49m M[\u001b[39m'\u001b[39;49m\u001b[39mm00\u001b[39;49m\u001b[39m'\u001b[39;49m])\n\u001b[0;32m     <a href='vscode-notebook-cell:/c%3A/Users/user/Desktop/JJW/python/openCV/25.%20%EB%AA%A8%EB%A9%98%ED%8A%B8.ipynb#W0sZmlsZQ%3D%3D?line=13'>14</a>\u001b[0m     cY \u001b[39m=\u001b[39m \u001b[39mint\u001b[39m(M[\u001b[39m'\u001b[39m\u001b[39mm01\u001b[39m\u001b[39m'\u001b[39m] \u001b[39m/\u001b[39m M[\u001b[39m'\u001b[39m\u001b[39mm00\u001b[39m\u001b[39m'\u001b[39m])\n\u001b[0;32m     <a href='vscode-notebook-cell:/c%3A/Users/user/Desktop/JJW/python/openCV/25.%20%EB%AA%A8%EB%A9%98%ED%8A%B8.ipynb#W0sZmlsZQ%3D%3D?line=15'>16</a>\u001b[0m     cv2\u001b[39m.\u001b[39mcircle(dst, (\u001b[39mint\u001b[39m(cX), \u001b[39mint\u001b[39m(cY)), \u001b[39m3\u001b[39m, (\u001b[39m255\u001b[39m, \u001b[39m0\u001b[39m, \u001b[39m0\u001b[39m), \u001b[39m-\u001b[39m\u001b[39m1\u001b[39m)\n",
      "\u001b[1;31mZeroDivisionError\u001b[0m: float division by zero"
     ]
    }
   ],
   "source": [
    "import cv2\n",
    "\n",
    "src = cv2.imread(\"Image/blocz_01.png\")\n",
    "dst = src.copy()\n",
    "\n",
    "gray = cv2.cvtColor(src, cv2.COLOR_RGB2GRAY)\n",
    "ret, binary = cv2.threshold(gray, 150, 255, cv2.THRESH_BINARY_INV)\n",
    "\n",
    "contours, hierarchy = cv2.findContours(binary, cv2.RETR_CCOMP, cv2.CHAIN_APPROX_NONE)\n",
    "\n",
    "for i in contours:\n",
    "    M = cv2.moments(i)\n",
    "    cX = int(M['m10'] / M['m00'])\n",
    "    cY = int(M['m01'] / M['m00'])\n",
    "    \n",
    "    cv2.circle(dst, (int(cX), int(cY)), 3, (255, 0, 0), -1)\n",
    "    cv2.drawContours(dst, [i], 0, (0, 0, 255), 2)\n",
    "\n",
    "cv2.imshow(\"dst\", dst)\n",
    "cv2.waitKey(0)\n",
    "cv2.destroyAllWindows()"
   ]
  }
 ],
 "metadata": {
  "kernelspec": {
   "display_name": "Python 3.9.12 ('base')",
   "language": "python",
   "name": "python3"
  },
  "language_info": {
   "codemirror_mode": {
    "name": "ipython",
    "version": 3
   },
   "file_extension": ".py",
   "mimetype": "text/x-python",
   "name": "python",
   "nbconvert_exporter": "python",
   "pygments_lexer": "ipython3",
   "version": "3.9.12"
  },
  "orig_nbformat": 4,
  "vscode": {
   "interpreter": {
    "hash": "a077222d77dfe082b8f1dd562ad70e458ac2ab76993a0b248ab0476e32e9e8dd"
   }
  }
 },
 "nbformat": 4,
 "nbformat_minor": 2
}
