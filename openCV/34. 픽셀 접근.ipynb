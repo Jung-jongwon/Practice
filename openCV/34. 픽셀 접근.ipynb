{
 "cells": [
  {
   "cell_type": "code",
   "execution_count": 1,
   "metadata": {},
   "outputs": [],
   "source": [
    "import cv2\n",
    "import numpy as np"
   ]
  },
  {
   "cell_type": "code",
   "execution_count": 2,
   "metadata": {},
   "outputs": [],
   "source": [
    "gray = np.linspace(0, 255, num=90000, endpoint=True, retstep = False, dtype=np.uint8).reshape(300, 300, 1)\n",
    "color = np.zeros((300, 300, 3), np.uint8)\n",
    "color[0:150, :, 0] = gray[0:150, :, 0]\n",
    "color[:, 150:300, 2] = gray[:, 150:300, 0]"
   ]
  },
  {
   "cell_type": "code",
   "execution_count": 3,
   "metadata": {},
   "outputs": [],
   "source": [
    "x, y, c = 200, 100, 0\n",
    "access_gray = gray[y, x, c]\n",
    "access_color_blue = color[y, x, c]\n",
    "access_color = color[y, x]"
   ]
  },
  {
   "cell_type": "code",
   "execution_count": 4,
   "metadata": {},
   "outputs": [
    {
     "name": "stdout",
     "output_type": "stream",
     "text": [
      "85\n",
      "85\n",
      "[85  0 85]\n"
     ]
    }
   ],
   "source": [
    "print(access_gray)\n",
    "print(access_color_blue)\n",
    "print(access_color)"
   ]
  },
  {
   "cell_type": "code",
   "execution_count": 5,
   "metadata": {},
   "outputs": [],
   "source": [
    "cv2.imshow(\"gray\", gray)\n",
    "cv2.imshow(\"color\", color)\n",
    "cv2.waitKey(0)\n",
    "cv2.destroyAllWindows()"
   ]
  },
  {
   "cell_type": "code",
   "execution_count": null,
   "metadata": {},
   "outputs": [],
   "source": []
  }
 ],
 "metadata": {
  "kernelspec": {
   "display_name": "Python 3.7.1 ('level_up')",
   "language": "python",
   "name": "python3"
  },
  "language_info": {
   "codemirror_mode": {
    "name": "ipython",
    "version": 3
   },
   "file_extension": ".py",
   "mimetype": "text/x-python",
   "name": "python",
   "nbconvert_exporter": "python",
   "pygments_lexer": "ipython3",
   "version": "3.7.1"
  },
  "orig_nbformat": 4,
  "vscode": {
   "interpreter": {
    "hash": "359a9e73b714badd4f9a66be40bccea6ac9c3ceb3e5bd5a99f78de24624715df"
   }
  }
 },
 "nbformat": 4,
 "nbformat_minor": 2
}
