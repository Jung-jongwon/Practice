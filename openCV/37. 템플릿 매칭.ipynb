{
 "cells": [
  {
   "cell_type": "code",
   "execution_count": 1,
   "metadata": {},
   "outputs": [],
   "source": [
    "import cv2"
   ]
  },
  {
   "cell_type": "code",
   "execution_count": 11,
   "metadata": {},
   "outputs": [],
   "source": [
    "src = cv2.imread(\"Image/hats.png\", cv2.IMREAD_GRAYSCALE)\n",
    "# src = cv2.resize(src, (0,0), fx=0.2, fy=0.2, interpolation = cv2.INTER_AREA)\n",
    "templit = cv2.imread(\"Image/hat.png\", cv2.IMREAD_GRAYSCALE)\n",
    "dst = cv2.imread(\"Image/hats.png\")"
   ]
  },
  {
   "cell_type": "code",
   "execution_count": 12,
   "metadata": {},
   "outputs": [],
   "source": [
    "result = cv2.matchTemplate(src, templit, cv2.TM_SQDIFF_NORMED)\n",
    "\n",
    "minVal, maxVal, minLoc, maxLoc = cv2.minMaxLoc(result)\n",
    "x, y = minLoc\n",
    "h, w = templit.shape"
   ]
  },
  {
   "cell_type": "code",
   "execution_count": 13,
   "metadata": {},
   "outputs": [],
   "source": [
    "dst = cv2.rectangle(dst, (x, y), (x + w, y + h), (0, 0, 255), 1)\n",
    "cv2.imshow(\"dst\", dst)\n",
    "cv2.waitKey(0)\n",
    "cv2.destroyAllWindows()"
   ]
  },
  {
   "cell_type": "code",
   "execution_count": null,
   "metadata": {},
   "outputs": [],
   "source": []
  }
 ],
 "metadata": {
  "kernelspec": {
   "display_name": "Python 3.9.12 ('base')",
   "language": "python",
   "name": "python3"
  },
  "language_info": {
   "codemirror_mode": {
    "name": "ipython",
    "version": 3
   },
   "file_extension": ".py",
   "mimetype": "text/x-python",
   "name": "python",
   "nbconvert_exporter": "python",
   "pygments_lexer": "ipython3",
   "version": "3.9.12"
  },
  "orig_nbformat": 4,
  "vscode": {
   "interpreter": {
    "hash": "a077222d77dfe082b8f1dd562ad70e458ac2ab76993a0b248ab0476e32e9e8dd"
   }
  }
 },
 "nbformat": 4,
 "nbformat_minor": 2
}
