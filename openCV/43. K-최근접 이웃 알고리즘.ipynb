{
 "cells": [
  {
   "cell_type": "code",
   "execution_count": 41,
   "metadata": {},
   "outputs": [],
   "source": [
    "import cv2\n",
    "import numpy as np"
   ]
  },
  {
   "cell_type": "code",
   "execution_count": 42,
   "metadata": {},
   "outputs": [],
   "source": [
    "def loadTrainData(image_path, label_path):\n",
    "    with open(image_path, \"rb\") as image_data:\n",
    "        images = np.frombuffer(image_data.read(), dtype=np.uint8, offset=16)\n",
    "    with open(label_path, \"rb\") as label_data:\n",
    "        labels = np.frombuffer(label_data.read(), dtype=np.uint8, offset=8)\n",
    "    return images.reshape(-1, 784), labels"
   ]
  },
  {
   "cell_type": "code",
   "execution_count": 43,
   "metadata": {},
   "outputs": [],
   "source": [
    "train_x, train_y = loadTrainData(\n",
    "    \"data/fashion-mnist/train-images-idx3-ubyte\",\n",
    "    \"data/fashion-mnist/train-labels-idx1-ubyte\"\n",
    ")\n",
    "test_x, test_y = loadTrainData(\n",
    "    \"data/fashion-mnist/t10k-images-idx3-ubyte\",\n",
    "    \"data/fashion-mnist/t10k-labels-idx1-ubyte\"\n",
    ")"
   ]
  },
  {
   "cell_type": "code",
   "execution_count": 44,
   "metadata": {},
   "outputs": [],
   "source": [
    "label_dict = {\n",
    "    0: \"T-shirt/top\",\n",
    "    1: \"Trouser\",\n",
    "    2: \"Pullover\",\n",
    "    3: \"Dress\",\n",
    "    4: \"Coat\",\n",
    "    5: \"Sandal\",\n",
    "    6: \"Shirt\",\n",
    "    7: \"Sneaker\",\n",
    "    8: \"Bag\",\n",
    "    9: \"Ankle boot\"\n",
    "}"
   ]
  },
  {
   "cell_type": "code",
   "execution_count": 45,
   "metadata": {},
   "outputs": [],
   "source": [
    "knn = cv2.ml.KNearest_create()\n",
    "retval = knn.train(train_x.astype(np.float32), cv2.ml.ROW_SAMPLE, train_y.astype(np.int32))\n"
   ]
  },
  {
   "cell_type": "code",
   "execution_count": 46,
   "metadata": {},
   "outputs": [
    {
     "name": "stdout",
     "output_type": "stream",
     "text": [
      "87.4\n",
      "Index : 0\n",
      "예측값 : Ankle boot\n",
      "실제값 : Ankle boot\n"
     ]
    }
   ],
   "source": [
    "count = 500\n",
    "retval, results, neighborResponses, dist = knn.findNearest(\n",
    "    test_x[:count].astype(np.float32), k=7\n",
    ")\n",
    "\n",
    "matches = results.astype(np.uint8) == test_y[:count][:, None]\n",
    "print(np.count_nonzero(matches) / count * 100)\n",
    "\n",
    "for idx, result in enumerate(results):\n",
    "    print(\"Index : {}\".format(idx))\n",
    "    print(\"예측값 : {}\".format(label_dict[int(result)]))\n",
    "    print(\"실제값 : {}\".format(label_dict[test_y[idx]]))\n",
    "    cv2.imshow(\"images\", test_x[idx].reshape(28, 28, 1))\n",
    "    cv2.waitKey()"
   ]
  },
  {
   "cell_type": "code",
   "execution_count": null,
   "metadata": {},
   "outputs": [],
   "source": []
  }
 ],
 "metadata": {
  "kernelspec": {
   "display_name": "Python 3.9.12 ('base')",
   "language": "python",
   "name": "python3"
  },
  "language_info": {
   "codemirror_mode": {
    "name": "ipython",
    "version": 3
   },
   "file_extension": ".py",
   "mimetype": "text/x-python",
   "name": "python",
   "nbconvert_exporter": "python",
   "pygments_lexer": "ipython3",
   "version": "3.9.12"
  },
  "orig_nbformat": 4,
  "vscode": {
   "interpreter": {
    "hash": "a077222d77dfe082b8f1dd562ad70e458ac2ab76993a0b248ab0476e32e9e8dd"
   }
  }
 },
 "nbformat": 4,
 "nbformat_minor": 2
}
