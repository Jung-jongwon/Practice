{
 "cells": [
  {
   "cell_type": "code",
   "execution_count": 11,
   "metadata": {},
   "outputs": [],
   "source": [
    "import os\n",
    "from tensorflow import keras\n",
    "from tensorflow.keras.preprocessing.image import ImageDataGenerator\n",
    "from tensorflow.keras import layers\n",
    "from tensorflow.keras.optimizers import SGD\n",
    "import matplotlib.pyplot as plt\n",
    "import math\n",
    "import tensorflow as tf"
   ]
  },
  {
   "cell_type": "code",
   "execution_count": 3,
   "metadata": {},
   "outputs": [
    {
     "name": "stdout",
     "output_type": "stream",
     "text": [
      "Found 251 images belonging to 3 classes.\n",
      "Found 83 images belonging to 3 classes.\n"
     ]
    }
   ],
   "source": [
    "base_dir='./Covid19-dataset/'\n",
    "train_dir = os.path.join(base_dir,'train')\n",
    "validation_dir = os.path.join(base_dir,'validation')\n",
    "\n",
    "train_datagen = ImageDataGenerator(\n",
    "    featurewise_center = True,\n",
    "    featurewise_std_normalization=True,\n",
    "    rescale=1./255,\n",
    "    rotation_range=20,\n",
    "    width_shift_range=0.2,\n",
    "    height_shift_range=0.2,\n",
    "    horizontal_flip=True,\n",
    "    validation_split=0.2\n",
    ")\n",
    "\n",
    "validation_datagen = ImageDataGenerator(rescale=1./255)\n",
    "\n",
    "train_generator = train_datagen.flow_from_directory(\n",
    "    # 타깃 디렉터리\n",
    "    train_dir,\n",
    "    # 모든 이미지를 150 x 150 크기로 바꾸기\n",
    "    target_size=(150,150),\n",
    "    batch_size=32,\n",
    "    # categorical_crossentropy 손실을 사용\n",
    "    class_mode='categorical' # COVID_19는 3개의 class 구성\n",
    ")\n",
    "\n",
    "validation_generator = validation_datagen.flow_from_directory(\n",
    "    validation_dir,\n",
    "    target_size=(150,150),\n",
    "    batch_size=32,\n",
    "    class_mode='categorical'\n",
    ")"
   ]
  },
  {
   "cell_type": "code",
   "execution_count": 36,
   "metadata": {},
   "outputs": [
    {
     "name": "stdout",
     "output_type": "stream",
     "text": [
      "Model: \"model_3\"\n",
      "_________________________________________________________________\n",
      " Layer (type)                Output Shape              Param #   \n",
      "=================================================================\n",
      " input_5 (InputLayer)        [(None, 150, 150, 3)]     0         \n",
      "                                                                 \n",
      " conv2d_13 (Conv2D)          (None, 148, 148, 32)      896       \n",
      "                                                                 \n",
      " max_pooling2d_12 (MaxPoolin  (None, 74, 74, 32)       0         \n",
      " g2D)                                                            \n",
      "                                                                 \n",
      " conv2d_14 (Conv2D)          (None, 72, 72, 64)        18496     \n",
      "                                                                 \n",
      " max_pooling2d_13 (MaxPoolin  (None, 36, 36, 64)       0         \n",
      " g2D)                                                            \n",
      "                                                                 \n",
      " conv2d_15 (Conv2D)          (None, 34, 34, 128)       73856     \n",
      "                                                                 \n",
      " max_pooling2d_14 (MaxPoolin  (None, 17, 17, 128)      0         \n",
      " g2D)                                                            \n",
      "                                                                 \n",
      " conv2d_16 (Conv2D)          (None, 15, 15, 128)       147584    \n",
      "                                                                 \n",
      " max_pooling2d_15 (MaxPoolin  (None, 7, 7, 128)        0         \n",
      " g2D)                                                            \n",
      "                                                                 \n",
      " flatten_3 (Flatten)         (None, 6272)              0         \n",
      "                                                                 \n",
      " dropout_3 (Dropout)         (None, 6272)              0         \n",
      "                                                                 \n",
      " dense_6 (Dense)             (None, 512)               3211776   \n",
      "                                                                 \n",
      " dense_7 (Dense)             (None, 3)                 1539      \n",
      "                                                                 \n",
      "=================================================================\n",
      "Total params: 3,454,147\n",
      "Trainable params: 3,454,147\n",
      "Non-trainable params: 0\n",
      "_________________________________________________________________\n"
     ]
    }
   ],
   "source": [
    "input_shape = (150,150,3)\n",
    "img_input = layers.Input(shape=input_shape)\n",
    "output1 = layers.Conv2D(kernel_size=(3,3), filters=32, activation='relu')(img_input)\n",
    "output2 = layers.MaxPooling2D((2,2))(output1)\n",
    "output3 = layers.Conv2D(kernel_size=(3,3), filters=64, activation='relu')(output2)\n",
    "output4 = layers.MaxPooling2D((2,2))(output3)\n",
    "output5 = layers.Conv2D(kernel_size=(3,3), filters=128, activation='relu')(output4)\n",
    "output6 = layers.MaxPooling2D((2,2))(output5)\n",
    "output7 = layers.Conv2D(kernel_size=(3,3), filters=128, activation='relu')(output6)\n",
    "output8 = layers.MaxPooling2D((2,2))(output7)\n",
    "output9 = layers.Flatten()(output8)\n",
    "output10 = layers.Dropout(0.5)(output9)\n",
    "output11 = layers.Dense(512, activation='relu')(output10)\n",
    "predictions = layers.Dense(3, activation='softmax')(output11)\n",
    "\n",
    "model = keras.Model(inputs=img_input, outputs=predictions)\n",
    "\n",
    "model.summary()"
   ]
  },
  {
   "cell_type": "code",
   "execution_count": 37,
   "metadata": {},
   "outputs": [],
   "source": [
    "opt = SGD(lr=0.0005, momentum=0.9)\n",
    "loss = tf.keras.losses.CategoricalCrossentropy(label_smoothing=0.1)\n",
    "model.compile(loss=loss, optimizer=opt, metrics=[\"accuracy\"])"
   ]
  },
  {
   "cell_type": "code",
   "execution_count": 38,
   "metadata": {},
   "outputs": [
    {
     "name": "stderr",
     "output_type": "stream",
     "text": [
      "C:\\Users\\user\\AppData\\Local\\Temp\\ipykernel_764\\4154572522.py:4: UserWarning: `Model.fit_generator` is deprecated and will be removed in a future version. Please use `Model.fit`, which supports generators.\n",
      "  history = model.fit_generator(\n"
     ]
    },
    {
     "name": "stdout",
     "output_type": "stream",
     "text": [
      "Epoch 1/30\n",
      "8/8 [==============================] - 12s 2s/step - loss: 1.1060 - accuracy: 0.2789 - val_loss: 1.0953 - val_accuracy: 0.3133\n",
      "Epoch 2/30\n",
      "8/8 [==============================] - 13s 2s/step - loss: 1.1014 - accuracy: 0.2988 - val_loss: 1.0906 - val_accuracy: 0.5542\n",
      "Epoch 3/30\n",
      "8/8 [==============================] - 12s 2s/step - loss: 1.0950 - accuracy: 0.4382 - val_loss: 1.0858 - val_accuracy: 0.4940\n",
      "Epoch 4/30\n",
      "8/8 [==============================] - 13s 2s/step - loss: 1.0927 - accuracy: 0.4343 - val_loss: 1.0814 - val_accuracy: 0.4940\n",
      "Epoch 5/30\n",
      "8/8 [==============================] - 12s 2s/step - loss: 1.0852 - accuracy: 0.4622 - val_loss: 1.0771 - val_accuracy: 0.4940\n",
      "Epoch 6/30\n",
      "8/8 [==============================] - 13s 2s/step - loss: 1.0899 - accuracy: 0.4462 - val_loss: 1.0735 - val_accuracy: 0.4940\n",
      "Epoch 7/30\n",
      "8/8 [==============================] - 13s 2s/step - loss: 1.0836 - accuracy: 0.4462 - val_loss: 1.0707 - val_accuracy: 0.4940\n",
      "Epoch 8/30\n",
      "8/8 [==============================] - 13s 2s/step - loss: 1.0872 - accuracy: 0.4422 - val_loss: 1.0685 - val_accuracy: 0.4940\n",
      "Epoch 9/30\n",
      "8/8 [==============================] - 12s 2s/step - loss: 1.0864 - accuracy: 0.4422 - val_loss: 1.0669 - val_accuracy: 0.4940\n",
      "Epoch 10/30\n",
      "8/8 [==============================] - 11s 1s/step - loss: 1.0823 - accuracy: 0.4422 - val_loss: 1.0650 - val_accuracy: 0.4940\n",
      "Epoch 11/30\n",
      "8/8 [==============================] - 10s 1s/step - loss: 1.0806 - accuracy: 0.4422 - val_loss: 1.0634 - val_accuracy: 0.4940\n",
      "Epoch 12/30\n",
      "8/8 [==============================] - 10s 1s/step - loss: 1.0795 - accuracy: 0.4422 - val_loss: 1.0623 - val_accuracy: 0.4940\n",
      "Epoch 13/30\n",
      "8/8 [==============================] - 10s 1s/step - loss: 1.0768 - accuracy: 0.4422 - val_loss: 1.0610 - val_accuracy: 0.4940\n",
      "Epoch 14/30\n",
      "8/8 [==============================] - 10s 1s/step - loss: 1.0769 - accuracy: 0.4422 - val_loss: 1.0596 - val_accuracy: 0.4940\n",
      "Epoch 15/30\n",
      "8/8 [==============================] - 10s 1s/step - loss: 1.0781 - accuracy: 0.4422 - val_loss: 1.0581 - val_accuracy: 0.4940\n",
      "Epoch 16/30\n",
      "8/8 [==============================] - 10s 1s/step - loss: 1.0779 - accuracy: 0.4422 - val_loss: 1.0570 - val_accuracy: 0.4940\n",
      "Epoch 17/30\n",
      "8/8 [==============================] - 10s 1s/step - loss: 1.0805 - accuracy: 0.4422 - val_loss: 1.0557 - val_accuracy: 0.4940\n",
      "Epoch 18/30\n",
      "8/8 [==============================] - 10s 1s/step - loss: 1.0759 - accuracy: 0.4422 - val_loss: 1.0543 - val_accuracy: 0.4940\n",
      "Epoch 19/30\n",
      "8/8 [==============================] - 10s 1s/step - loss: 1.0723 - accuracy: 0.4422 - val_loss: 1.0527 - val_accuracy: 0.4940\n",
      "Epoch 20/30\n",
      "8/8 [==============================] - 10s 1s/step - loss: 1.0755 - accuracy: 0.4422 - val_loss: 1.0517 - val_accuracy: 0.4940\n",
      "Epoch 21/30\n",
      "8/8 [==============================] - 10s 1s/step - loss: 1.0780 - accuracy: 0.4422 - val_loss: 1.0504 - val_accuracy: 0.4940\n",
      "Epoch 22/30\n",
      "8/8 [==============================] - 10s 1s/step - loss: 1.0727 - accuracy: 0.4422 - val_loss: 1.0496 - val_accuracy: 0.4940\n",
      "Epoch 23/30\n",
      "8/8 [==============================] - 10s 1s/step - loss: 1.0776 - accuracy: 0.4422 - val_loss: 1.0484 - val_accuracy: 0.4940\n",
      "Epoch 24/30\n",
      "8/8 [==============================] - 10s 1s/step - loss: 1.0696 - accuracy: 0.4422 - val_loss: 1.0478 - val_accuracy: 0.4940\n",
      "Epoch 25/30\n",
      "8/8 [==============================] - 10s 1s/step - loss: 1.0667 - accuracy: 0.4422 - val_loss: 1.0466 - val_accuracy: 0.4940\n",
      "Epoch 26/30\n",
      "8/8 [==============================] - 10s 1s/step - loss: 1.0658 - accuracy: 0.4382 - val_loss: 1.0449 - val_accuracy: 0.4940\n",
      "Epoch 27/30\n",
      "8/8 [==============================] - 10s 1s/step - loss: 1.0762 - accuracy: 0.4462 - val_loss: 1.0426 - val_accuracy: 0.4940\n",
      "Epoch 28/30\n",
      "8/8 [==============================] - 10s 1s/step - loss: 1.0656 - accuracy: 0.4462 - val_loss: 1.0401 - val_accuracy: 0.4940\n",
      "Epoch 29/30\n",
      "8/8 [==============================] - 10s 1s/step - loss: 1.0705 - accuracy: 0.4422 - val_loss: 1.0377 - val_accuracy: 0.4940\n",
      "Epoch 30/30\n",
      "8/8 [==============================] - 10s 1s/step - loss: 1.0643 - accuracy: 0.4422 - val_loss: 1.0360 - val_accuracy: 0.4940\n"
     ]
    }
   ],
   "source": [
    "train_step = math.ceil(train_generator.n/32)\n",
    "valid_step = math.ceil(validation_generator.n/32)\n",
    "\n",
    "history = model.fit_generator(\n",
    "    train_generator,\n",
    "    steps_per_epoch=train_step,\n",
    "    epochs=30,\n",
    "    validation_data=validation_generator,\n",
    "    validation_steps=valid_step)"
   ]
  },
  {
   "cell_type": "code",
   "execution_count": 40,
   "metadata": {},
   "outputs": [
    {
     "data": {
      "image/png": "[encoded data removed]",
      "text/plain": [
       "<Figure size 432x288 with 1 Axes>"
      ]
     },
     "metadata": {
      "needs_background": "light"
     },
     "output_type": "display_data"
    },
    {
     "data": {
      "image/png": "[encoded data removed]",
      "text/plain": [
       "<Figure size 432x288 with 1 Axes>"
      ]
     },
     "metadata": {
      "needs_background": "light"
     },
     "output_type": "display_data"
    }
   ],
   "source": [
    "acc = history.history['accuracy']\n",
    "val_acc = history.history['val_accuracy']\n",
    "loss = history.history['loss']\n",
    "val_loss = history.history['val_loss']\n",
    "\n",
    "epochs = range(len(acc))\n",
    "\n",
    "plt.plot(epochs, acc, 'bo', label='Training acc')\n",
    "plt.plot(epochs, val_acc, 'b', label=\"Validation acc\")\n",
    "plt.title('Training and validation accuracy')\n",
    "plt.legend\n",
    "\n",
    "plt.figure()\n",
    "\n",
    "plt.plot(epochs, loss, 'bo', label='Training loss')\n",
    "plt.plot(epochs, val_loss, 'b', label='Validation loss')\n",
    "plt.title('Training and validation loss')\n",
    "plt.legend\n",
    "\n",
    "plt.show()"
   ]
  },
  {
   "cell_type": "code",
   "execution_count": 44,
   "metadata": {},
   "outputs": [
    {
     "name": "stdout",
     "output_type": "stream",
     "text": [
      "Found 66 images belonging to 3 classes.\n"
     ]
    },
    {
     "name": "stderr",
     "output_type": "stream",
     "text": [
      "C:\\Users\\user\\AppData\\Local\\Temp\\ipykernel_764\\1433735074.py:14: UserWarning: `Model.evaluate_generator` is deprecated and will be removed in a future version. Please use `Model.evaluate`, which supports generators.\n",
      "  test_loss, test_acc = model.evaluate_generator(test_generator, steps= test_step, workers=4)\n"
     ]
    },
    {
     "name": "stdout",
     "output_type": "stream",
     "text": [
      "test loss : 1.0695 / test acc : 39.39 %\n"
     ]
    }
   ],
   "source": [
    "model.save('CNN_epoch_20.h5')\n",
    "\n",
    "test_dir = os.path.join(base_dir, 'test')\n",
    "test_datagen = ImageDataGenerator(rescale=1./255)\n",
    "test_generator = test_datagen.flow_from_directory(\n",
    "    test_dir,\n",
    "    target_size=(150,150),\n",
    "    batch_size=32,\n",
    "    class_mode='categorical'\n",
    ")\n",
    "\n",
    "test_step = math.ceil(test_generator.n/32)\n",
    "\n",
    "test_loss, test_acc = model.evaluate_generator(test_generator, steps= test_step, workers=4)\n",
    "print(f'test loss : {test_loss:.4f} / test acc : {test_acc*100:.2f} %')"
   ]
  },
  {
   "cell_type": "code",
   "execution_count": 45,
   "metadata": {},
   "outputs": [
    {
     "name": "stdout",
     "output_type": "stream",
     "text": [
      "Downloading data from https://storage.googleapis.com/tensorflow/keras-applications/vgg16/vgg16_weights_tf_dim_ordering_tf_kernels_notop.h5\n",
      "58889256/58889256 [==============================] - 7s 0us/step\n"
     ]
    }
   ],
   "source": [
    "from tensorflow.keras.applications import VGG16\n",
    "\n",
    "vgg_base = VGG16(weights='imagenet',\n",
    "                 include_top = False,\n",
    "                 input_shape=(150,150,3))"
   ]
  },
  {
   "cell_type": "code",
   "execution_count": 47,
   "metadata": {},
   "outputs": [
    {
     "name": "stdout",
     "output_type": "stream",
     "text": [
      "Model: \"vgg16\"\n",
      "_________________________________________________________________\n",
      " Layer (type)                Output Shape              Param #   \n",
      "=================================================================\n",
      " input_6 (InputLayer)        [(None, 150, 150, 3)]     0         \n",
      "                                                                 \n",
      " block1_conv1 (Conv2D)       (None, 150, 150, 64)      1792      \n",
      "                                                                 \n",
      " block1_conv2 (Conv2D)       (None, 150, 150, 64)      36928     \n",
      "                                                                 \n",
      " block1_pool (MaxPooling2D)  (None, 75, 75, 64)        0         \n",
      "                                                                 \n",
      " block2_conv1 (Conv2D)       (None, 75, 75, 128)       73856     \n",
      "                                                                 \n",
      " block2_conv2 (Conv2D)       (None, 75, 75, 128)       147584    \n",
      "                                                                 \n",
      " block2_pool (MaxPooling2D)  (None, 37, 37, 128)       0         \n",
      "                                                                 \n",
      " block3_conv1 (Conv2D)       (None, 37, 37, 256)       295168    \n",
      "                                                                 \n",
      " block3_conv2 (Conv2D)       (None, 37, 37, 256)       590080    \n",
      "                                                                 \n",
      " block3_conv3 (Conv2D)       (None, 37, 37, 256)       590080    \n",
      "                                                                 \n",
      " block3_pool (MaxPooling2D)  (None, 18, 18, 256)       0         \n",
      "                                                                 \n",
      " block4_conv1 (Conv2D)       (None, 18, 18, 512)       1180160   \n",
      "                                                                 \n",
      " block4_conv2 (Conv2D)       (None, 18, 18, 512)       2359808   \n",
      "                                                                 \n",
      " block4_conv3 (Conv2D)       (None, 18, 18, 512)       2359808   \n",
      "                                                                 \n",
      " block4_pool (MaxPooling2D)  (None, 9, 9, 512)         0         \n",
      "                                                                 \n",
      " block5_conv1 (Conv2D)       (None, 9, 9, 512)         2359808   \n",
      "                                                                 \n",
      " block5_conv2 (Conv2D)       (None, 9, 9, 512)         2359808   \n",
      "                                                                 \n",
      " block5_conv3 (Conv2D)       (None, 9, 9, 512)         2359808   \n",
      "                                                                 \n",
      " block5_pool (MaxPooling2D)  (None, 4, 4, 512)         0         \n",
      "                                                                 \n",
      "=================================================================\n",
      "Total params: 14,714,688\n",
      "Trainable params: 14,714,688\n",
      "Non-trainable params: 0\n",
      "_________________________________________________________________\n"
     ]
    }
   ],
   "source": [
    "vgg_base.summary()"
   ]
  },
  {
   "cell_type": "code",
   "execution_count": 51,
   "metadata": {},
   "outputs": [],
   "source": [
    "from tensorflow.keras import models\n",
    "from tensorflow.keras import layers\n",
    "from tensorflow.keras import optimizers\n",
    "\n",
    "model = models.Sequential()\n",
    "model.add(vgg_base)\n",
    "model.add(layers.Flatten())\n",
    "model.add(layers.Dense(256, activation='relu'))\n",
    "model.add(layers.Dense(1, activation='sigmoid'))"
   ]
  },
  {
   "cell_type": "code",
   "execution_count": 49,
   "metadata": {},
   "outputs": [
    {
     "name": "stdout",
     "output_type": "stream",
     "text": [
      "Model: \"sequential\"\n",
      "_________________________________________________________________\n",
      " Layer (type)                Output Shape              Param #   \n",
      "=================================================================\n",
      " vgg16 (Functional)          (None, 4, 4, 512)         14714688  \n",
      "                                                                 \n",
      " flatten_4 (Flatten)         (None, 8192)              0         \n",
      "                                                                 \n",
      " dense_8 (Dense)             (None, 256)               2097408   \n",
      "                                                                 \n",
      " dense_9 (Dense)             (None, 1)                 257       \n",
      "                                                                 \n",
      "=================================================================\n",
      "Total params: 16,812,353\n",
      "Trainable params: 16,812,353\n",
      "Non-trainable params: 0\n",
      "_________________________________________________________________\n"
     ]
    }
   ],
   "source": [
    "model.summary()"
   ]
  },
  {
   "cell_type": "code",
   "execution_count": 63,
   "metadata": {},
   "outputs": [
    {
     "name": "stderr",
     "output_type": "stream",
     "text": [
      "c:\\Users\\user\\anaconda3\\lib\\site-packages\\keras\\optimizers\\optimizer_v2\\rmsprop.py:135: UserWarning: The `lr` argument is deprecated, use `learning_rate` instead.\n",
      "  super(RMSprop, self).__init__(name, **kwargs)\n"
     ]
    },
    {
     "ename": "NameError",
     "evalue": "name 'train_labels' is not defined",
     "output_type": "error",
     "traceback": [
      "\u001b[1;31m---------------------------------------------------------------------------\u001b[0m",
      "\u001b[1;31mNameError\u001b[0m                                 Traceback (most recent call last)",
      "\u001b[1;32mc:\\Users\\user\\Desktop\\JJW\\python\\transfer leaning\\transfer_01.ipynb 셀 12\u001b[0m in \u001b[0;36m<cell line: 5>\u001b[1;34m()\u001b[0m\n\u001b[0;32m      <a href='vscode-notebook-cell:/c%3A/Users/user/Desktop/JJW/python/transfer%20leaning/transfer_01.ipynb#X15sZmlsZQ%3D%3D?line=0'>1</a>\u001b[0m model\u001b[39m.\u001b[39mcompile(optimizer\u001b[39m=\u001b[39moptimizers\u001b[39m.\u001b[39mRMSprop(lr\u001b[39m=\u001b[39m\u001b[39m2e-5\u001b[39m),\n\u001b[0;32m      <a href='vscode-notebook-cell:/c%3A/Users/user/Desktop/JJW/python/transfer%20leaning/transfer_01.ipynb#X15sZmlsZQ%3D%3D?line=1'>2</a>\u001b[0m               loss\u001b[39m=\u001b[39m\u001b[39m'\u001b[39m\u001b[39mbinary_crossentropy\u001b[39m\u001b[39m'\u001b[39m,\n\u001b[0;32m      <a href='vscode-notebook-cell:/c%3A/Users/user/Desktop/JJW/python/transfer%20leaning/transfer_01.ipynb#X15sZmlsZQ%3D%3D?line=2'>3</a>\u001b[0m               metrics\u001b[39m=\u001b[39m[\u001b[39m'\u001b[39m\u001b[39macc\u001b[39m\u001b[39m'\u001b[39m])\n\u001b[0;32m      <a href='vscode-notebook-cell:/c%3A/Users/user/Desktop/JJW/python/transfer%20leaning/transfer_01.ipynb#X15sZmlsZQ%3D%3D?line=4'>5</a>\u001b[0m history \u001b[39m=\u001b[39m model\u001b[39m.\u001b[39mfit(train_generator,\n\u001b[1;32m----> <a href='vscode-notebook-cell:/c%3A/Users/user/Desktop/JJW/python/transfer%20leaning/transfer_01.ipynb#X15sZmlsZQ%3D%3D?line=5'>6</a>\u001b[0m                     train_labels,\n\u001b[0;32m      <a href='vscode-notebook-cell:/c%3A/Users/user/Desktop/JJW/python/transfer%20leaning/transfer_01.ipynb#X15sZmlsZQ%3D%3D?line=6'>7</a>\u001b[0m                     epochs\u001b[39m=\u001b[39m\u001b[39m30\u001b[39m,\n\u001b[0;32m      <a href='vscode-notebook-cell:/c%3A/Users/user/Desktop/JJW/python/transfer%20leaning/transfer_01.ipynb#X15sZmlsZQ%3D%3D?line=7'>8</a>\u001b[0m                     validation_data\u001b[39m=\u001b[39mvalidation_generator,\n\u001b[0;32m      <a href='vscode-notebook-cell:/c%3A/Users/user/Desktop/JJW/python/transfer%20leaning/transfer_01.ipynb#X15sZmlsZQ%3D%3D?line=8'>9</a>\u001b[0m                     validation_steps\u001b[39m=\u001b[39mvalid_step)\n",
      "\u001b[1;31mNameError\u001b[0m: name 'train_labels' is not defined"
     ]
    }
   ],
   "source": [
    "model.compile(optimizer=optimizers.RMSprop(lr=2e-5),\n",
    "              loss='binary_crossentropy',\n",
    "              metrics=['acc'])\n",
    "\n",
    "history = model.fit(train_generator,\n",
    "                    steps_per_epoch=train_step,\n",
    "                    epochs=30,\n",
    "                    validation_data=validation_generator,\n",
    "                    validation_steps=valid_step)"
   ]
  },
  {
   "cell_type": "markdown",
   "metadata": {},
   "source": [
    "# fine tuning"
   ]
  },
  {
   "cell_type": "code",
   "execution_count": null,
   "metadata": {},
   "outputs": [],
   "source": [
    "for layer in vgg_base.layers:\n",
    "    layer.trainable = False"
   ]
  },
  {
   "cell_type": "code",
   "execution_count": null,
   "metadata": {},
   "outputs": [],
   "source": [
    "for layer in vgg_base.layers[15:]:\n",
    "    layer.trainable = True"
   ]
  },
  {
   "cell_type": "code",
   "execution_count": null,
   "metadata": {},
   "outputs": [],
   "source": []
  },
  {
   "cell_type": "code",
   "execution_count": null,
   "metadata": {},
   "outputs": [],
   "source": []
  },
  {
   "cell_type": "code",
   "execution_count": null,
   "metadata": {},
   "outputs": [],
   "source": []
  }
 ],
 "metadata": {
  "kernelspec": {
   "display_name": "Python 3.9.12 ('base')",
   "language": "python",
   "name": "python3"
  },
  "language_info": {
   "codemirror_mode": {
    "name": "ipython",
    "version": 3
   },
   "file_extension": ".py",
   "mimetype": "text/x-python",
   "name": "python",
   "nbconvert_exporter": "python",
   "pygments_lexer": "ipython3",
   "version": "3.9.12"
  },
  "orig_nbformat": 4,
  "vscode": {
   "interpreter": {
    "hash": "a077222d77dfe082b8f1dd562ad70e458ac2ab76993a0b248ab0476e32e9e8dd"
   }
  }
 },
 "nbformat": 4,
 "nbformat_minor": 2
}
